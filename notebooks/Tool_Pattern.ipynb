{
 "cells": [
  {
   "cell_type": "code",
   "execution_count": 6,
   "id": "873d80d7-69b2-4c8f-a5b1-786e45ab9976",
   "metadata": {},
   "outputs": [
    {
     "data": {
      "text/plain": [
       "'{\"temperature\": 25, \"unit\": \"celsius\"}'"
      ]
     },
     "execution_count": 6,
     "metadata": {},
     "output_type": "execute_result"
    }
   ],
   "source": [
    "#  A simple function\n",
    "\n",
    "import json\n",
    "def get_current_weather(location: str,unit: str):\n",
    "    if location==\"Madrid\":\n",
    "        return json.dumps({\"temperature\":25,\"unit\":unit})\n",
    "    else:\n",
    "        return json.dumps({\"temperature\":58,\"unit\":unit})\n",
    "get_current_weather(\"Madrid\",\"celsius\")\n"
   ]
  },
  {
   "cell_type": "code",
   "execution_count": 29,
   "id": "1c63c107-db25-420a-a0c9-ce1c917b64f3",
   "metadata": {},
   "outputs": [],
   "source": [
    "import os\n",
    "import re\n",
    "from groq import Groq\n",
    "from dotenv import load_dotenv\n",
    "\n",
    "load_dotenv()\n",
    "\n",
    "MODEL = \"llama3-70b-8192\"\n",
    "client  = Groq()\n",
    "\n",
    "TOOL_SYSTEM_PROMPT = \"\"\"\n",
    "You are a function calling AI model. You are provided with function signatures within <tools></tools> XML tags. \n",
    "You may call one or more functions to assist with the user query. Don't make assumptions about what values to plug \n",
    "into functions. Pay special attention to the properties 'types'. You should use those types as in a Python dict.\n",
    "For each function call return a json object with function name and arguments within <tool_call></tool_call> XML tags as follows:\n",
    "\n",
    "<tool_call>\n",
    "{\"name\": <function-name>,\"arguments\": <args-dict>}\n",
    "</tool_call>\n",
    "\n",
    "Here are the available tools:\n",
    "\n",
    "<tools> {\n",
    "    \"name\": \"get_current_weather\",\n",
    "    \"description\": \"Get the current weather in a given location location (str): The city and state, e.g. Madrid, Barcelona unit (str): The unit. It can take two values; 'celsius', 'fahrenheit'\",\n",
    "    \"parameters\": {\n",
    "        \"properties\": {\n",
    "            \"location\": {\n",
    "                \"type\": \"str\"\n",
    "            },\n",
    "            \"unit\": {\n",
    "                \"type\": \"str\"\n",
    "            }\n",
    "        }\n",
    "    }\n",
    "}\n",
    "</tools>\n",
    "\"\"\""
   ]
  },
  {
   "cell_type": "code",
   "execution_count": 30,
   "id": "a25be5f1-19c2-40f0-9818-0d773bc61286",
   "metadata": {},
   "outputs": [],
   "source": [
    "tool_chat_history = [\n",
    "    {\n",
    "        \"role\":\"system\",\n",
    "        \"content\": TOOL_SYSTEM_PROMPT\n",
    "    }\n",
    "]\n",
    "\n",
    "agent_chat_history = []\n",
    "\n",
    "user_msg = {\n",
    "    \"role\":\"user\",\n",
    "    \"content\":\"What's the current temperature in Madrid, in Celsius?\"\n",
    "}\n",
    "\n",
    "tool_chat_history.append(user_msg)\n",
    "agent_chat_history.append(user_msg)\n",
    "\n",
    "\n",
    "output = client.chat.completions.create(\n",
    "    messages=tool_chat_history,\n",
    "    model=MODEL\n",
    ").choices[0].message.content"
   ]
  },
  {
   "cell_type": "code",
   "execution_count": 31,
   "id": "9d817e32-4814-4f83-a321-c5b52bd07075",
   "metadata": {},
   "outputs": [
    {
     "data": {
      "text/plain": [
       "'<tool_call>\\n{\"name\": \"get_current_weather\",\"arguments\": {\"location\": \"Madrid\", \"unit\": \"celsius\"}}\\n</tool_call>'"
      ]
     },
     "execution_count": 31,
     "metadata": {},
     "output_type": "execute_result"
    }
   ],
   "source": [
    "output"
   ]
  },
  {
   "cell_type": "code",
   "execution_count": 39,
   "id": "ef78617e-e5c5-4478-8b50-f8acbd9e1b7e",
   "metadata": {},
   "outputs": [],
   "source": [
    "def parse_tool_call_str(tool_call_str: str):\n",
    "    pattern = r'</?tool_call>'\n",
    "    clean_tags = re.sub(pattern,'',tool_call_str)\n",
    "    try:\n",
    "        tool_call_json = json.loads(clean_tags)\n",
    "        return tool_call_json\n",
    "    except json.JSONDecodeError:\n",
    "        return clean_tags\n",
    "    except Exception as e:\n",
    "        print(f\"Unexpected error: {e}\")\n",
    "        return \"There was some error parsing the Tool's output\""
   ]
  },
  {
   "cell_type": "code",
   "execution_count": 41,
   "id": "65b6b2f1-21fc-4753-8f96-8ddb1e465f4d",
   "metadata": {},
   "outputs": [
    {
     "data": {
      "text/plain": [
       "{'name': 'get_current_weather',\n",
       " 'arguments': {'location': 'Madrid', 'unit': 'celsius'}}"
      ]
     },
     "execution_count": 41,
     "metadata": {},
     "output_type": "execute_result"
    }
   ],
   "source": [
    "parsed_output = parse_tool_call_str(output)\n",
    "parsed_output"
   ]
  },
  {
   "cell_type": "code",
   "execution_count": 43,
   "id": "427cc0f3-1c20-4706-a253-0109bb04ab19",
   "metadata": {},
   "outputs": [
    {
     "name": "stdout",
     "output_type": "stream",
     "text": [
      "{\"temperature\": 25, \"unit\": \"celsius\"}\n"
     ]
    }
   ],
   "source": [
    "result = get_current_weather(**parsed_output[\"arguments\"])\n",
    "print(result)"
   ]
  },
  {
   "cell_type": "code",
   "execution_count": 44,
   "id": "77b74303-edf8-4faf-a097-91637f41febd",
   "metadata": {},
   "outputs": [],
   "source": [
    "agent_chat_history.append({\n",
    "    \"role\":\"user\",\n",
    "    \"content\":f\"Observation: {result}\"\n",
    "})"
   ]
  },
  {
   "cell_type": "code",
   "execution_count": 45,
   "id": "a418ba52-72cc-4062-ade9-c2821e72d0ea",
   "metadata": {},
   "outputs": [
    {
     "data": {
      "text/plain": [
       "'The current temperature in Madrid is 25°C.'"
      ]
     },
     "execution_count": 45,
     "metadata": {},
     "output_type": "execute_result"
    }
   ],
   "source": [
    "client.chat.completions.create(\n",
    "    messages=agent_chat_history,\n",
    "    model=MODEL\n",
    ").choices[0].message.content"
   ]
  },
  {
   "cell_type": "markdown",
   "id": "4c5b0d9a-6fca-4926-adcb-bc78a6d77538",
   "metadata": {},
   "source": [
    "\n",
    "**The tool decorator**\n",
    "We are going to use the '''tool''' decorator to transform any Python function into a tool. You can see the implementation here. To test it out, let's make a more complex tool than before. For example, a tool that interacts with Hacker News, getting the current top stories.\n",
    "\n",
    "Reminder: To automatically generate the function signature for the tool, we need a way to infer the arguments types. For this reason, we need to create the typing annotations."
   ]
  },
  {
   "cell_type": "code",
   "execution_count": 49,
   "id": "168b47a3-1973-4a29-8a93-05110a18a889",
   "metadata": {},
   "outputs": [],
   "source": [
    "import json\n",
    "import requests\n",
    "from agentic_patterns.tool_pattern.tool import tool\n",
    "from agentic_patterns.tool_pattern.tool_agent import ToolAgent"
   ]
  },
  {
   "cell_type": "code",
   "execution_count": 52,
   "id": "1ca59360-34df-4457-ace7-5b8b0d6569ab",
   "metadata": {},
   "outputs": [],
   "source": [
    "def fetch_top_hacker_news_stories(top_n: int):\n",
    "    top_stories_url='https://hacker-news.firebaseio.com/v0/topstories.json'\n",
    "\n",
    "    try:\n",
    "        response = requests.get(top_stories_url)\n",
    "        response.raise_for_status()\n",
    "        top_story_ids = response.json()[:top_n]\n",
    "        top_stories=[]\n",
    "\n",
    "        for story_id in top_story_ids:\n",
    "            story_url = f'https://hacker-news.firebaseio.com/v0/item/{story_id}.json'\n",
    "            story_response = requests.get(story_url)\n",
    "            story_response.raise_for_status()\n",
    "            story_data = story_response.json()\n",
    "            top_stories.append({\n",
    "                'title': story_data.get('title','No title'),\n",
    "                'url': story_data.get('url','No URL available')\n",
    "            })\n",
    "        return json.dumps(top_stories)\n",
    "    except requests.exceptions.RequestException as e:\n",
    "        print(f\"An error occurred: {e}\")\n",
    "        return []\n",
    "            "
   ]
  },
  {
   "cell_type": "code",
   "execution_count": 53,
   "id": "6e6ddb05-12dd-4ad4-9a2d-1a6f2190ce32",
   "metadata": {},
   "outputs": [
    {
     "data": {
      "text/plain": [
       "[{'title': 'My 16-month theanine self-experiment',\n",
       "  'url': 'https://dynomight.net/theanine/'},\n",
       " {'title': 'Show HN: I built an app to get daily wisdom from Mr. Worldwide',\n",
       "  'url': 'https://daale.club/'},\n",
       " {'title': 'Posthog/.cursorrules',\n",
       "  'url': 'https://github.com/PostHog/posthog/blob/master/.cursorrules'},\n",
       " {'title': 'Presenterm: Markdown Slideshows in the Terminal',\n",
       "  'url': 'https://github.com/mfontanini/presenterm'},\n",
       " {'title': 'AI tools are spotting errors in research papers',\n",
       "  'url': 'https://www.nature.com/articles/d41586-025-00648-5'}]"
      ]
     },
     "execution_count": 53,
     "metadata": {},
     "output_type": "execute_result"
    }
   ],
   "source": [
    "json.loads(fetch_top_hacker_news_stories(top_n=5))"
   ]
  },
  {
   "cell_type": "markdown",
   "id": "17d79514-d00b-46b4-bee6-a5f1962efb09",
   "metadata": {},
   "source": []
  },
  {
   "cell_type": "code",
   "execution_count": 58,
   "id": "2c76fac8-032e-423c-a866-9c2f5aea6dcf",
   "metadata": {},
   "outputs": [],
   "source": [
    "hn_tool = tool(fetch_top_hacker_news_stories)\n",
    "wt_tool = tool(get_current_weather)"
   ]
  },
  {
   "cell_type": "code",
   "execution_count": 56,
   "id": "a73fea62-c28b-4e39-82e6-4fbe79483a1d",
   "metadata": {},
   "outputs": [
    {
     "data": {
      "text/plain": [
       "'fetch_top_hacker_news_stories'"
      ]
     },
     "execution_count": 56,
     "metadata": {},
     "output_type": "execute_result"
    }
   ],
   "source": [
    "hn_tool.name"
   ]
  },
  {
   "cell_type": "code",
   "execution_count": 57,
   "id": "51a64280-f8cb-4830-8fb9-4b9ce957a7f4",
   "metadata": {},
   "outputs": [
    {
     "data": {
      "text/plain": [
       "{'name': 'fetch_top_hacker_news_stories',\n",
       " 'description': None,\n",
       " 'parameters': {'properties': {'top_n': {'type': 'int'}}}}"
      ]
     },
     "execution_count": 57,
     "metadata": {},
     "output_type": "execute_result"
    }
   ],
   "source": [
    "json.loads(hn_tool.fn_signature)"
   ]
  },
  {
   "cell_type": "code",
   "execution_count": 62,
   "id": "02c9b649-e8e9-4c8d-83cf-3a3f3ecce1a2",
   "metadata": {},
   "outputs": [
    {
     "data": {
      "text/plain": [
       "'{\"name\": \"get_current_weather\", \"description\": null, \"parameters\": {\"properties\": {\"location\": {\"type\": \"str\"}, \"unit\": {\"type\": \"str\"}}}}'"
      ]
     },
     "execution_count": 62,
     "metadata": {},
     "output_type": "execute_result"
    }
   ],
   "source": [
    "wt_tool.fn_signature"
   ]
  },
  {
   "cell_type": "markdown",
   "id": "4c8d9880-d883-4255-91d3-c5c2ac2c98ce",
   "metadata": {},
   "source": [
    "**The ToolAgent**\n",
    "To create the agent, we just need to pass a list of tools (in this case, just one)."
   ]
  },
  {
   "cell_type": "code",
   "execution_count": 65,
   "id": "28a7b126-97b5-4a6c-9ca0-760c43be2e1a",
   "metadata": {},
   "outputs": [],
   "source": [
    "tool_agent = ToolAgent(model=\"llama3-70b-8192\",tools=[hn_tool,wt_tool])"
   ]
  },
  {
   "cell_type": "code",
   "execution_count": 71,
   "id": "5793b76b-8561-46f2-a326-5741b0e68197",
   "metadata": {},
   "outputs": [
    {
     "name": "stdout",
     "output_type": "stream",
     "text": [
      "The capital of India is New Delhi.\n"
     ]
    }
   ],
   "source": [
    "output = tool_agent.run(user_msg=\"What is the capital of India?\")\n",
    "print(output)"
   ]
  },
  {
   "cell_type": "code",
   "execution_count": 72,
   "id": "58a63f3e-ed6c-46bb-9d4e-b8e744f821f9",
   "metadata": {},
   "outputs": [
    {
     "name": "stdout",
     "output_type": "stream",
     "text": [
      "\u001b[32m\n",
      "Using Tool: fetch_top_hacker_news_stories\n",
      "\u001b[32m\n",
      "Tool call dict: \n",
      "{'name': 'fetch_top_hacker_news_stories', 'arguments': {'top_n': 5}, 'id': 1}\n",
      "\u001b[32m\n",
      "Tool result: \n",
      "[{\"title\": \"My 16-month theanine self-experiment\", \"url\": \"https://dynomight.net/theanine/\"}, {\"title\": \"Posthog/.cursorrules\", \"url\": \"https://github.com/PostHog/posthog/blob/master/.cursorrules\"}, {\"title\": \"Show HN: I built an app to get daily wisdom from Mr. Worldwide\", \"url\": \"https://daale.club/\"}, {\"title\": \"AI tools are spotting errors in research papers\", \"url\": \"https://www.nature.com/articles/d41586-025-00648-5\"}, {\"title\": \"Presenterm: Markdown Slideshows in the Terminal\", \"url\": \"https://github.com/mfontanini/presenterm\"}]\n"
     ]
    }
   ],
   "source": [
    "output = tool_agent.run(user_msg=\"Tell me the top 5 Hacker News stories right now\")"
   ]
  },
  {
   "cell_type": "code",
   "execution_count": 68,
   "id": "300e6106-ef02-4e58-8fd4-7f21d0edfa0a",
   "metadata": {},
   "outputs": [
    {
     "name": "stdout",
     "output_type": "stream",
     "text": [
      "Here are the top 5 Hacker News stories right now:\n",
      "\n",
      "1. **My 16-month theanine self-experiment** - https://dynomight.net/theanine/\n",
      "2. **Show HN: I built an app to get daily wisdom from Mr. Worldwide** - https://daale.club/\n",
      "3. **Posthog/.cursorrules** - https://github.com/PostHog/posthog/blob/master/.cursorrules\n",
      "4. **Presenterm: Markdown Slideshows in the Terminal** - https://github.com/mfontanini/presenterm\n",
      "5. **AI tools are spotting errors in research papers** - https://www.nature.com/articles/d41586-025-00648-5\n"
     ]
    }
   ],
   "source": [
    "print(output)"
   ]
  },
  {
   "cell_type": "code",
   "execution_count": 70,
   "id": "2287fe03-ee00-4b2e-b5d7-5a05eae6f359",
   "metadata": {},
   "outputs": [
    {
     "name": "stdout",
     "output_type": "stream",
     "text": [
      "\u001b[32m\n",
      "Using Tool: get_current_weather\n",
      "\u001b[32m\n",
      "Tool call dict: \n",
      "{'name': 'get_current_weather', 'arguments': {'location': 'Madrid', 'unit': 'Celsius'}, 'id': 1}\n",
      "\u001b[32m\n",
      "Tool result: \n",
      "{\"temperature\": 25, \"unit\": \"Celsius\"}\n"
     ]
    }
   ],
   "source": [
    "output = tool_agent.run(user_msg=\"Whats the weather in Madrid in Celsius?\")"
   ]
  },
  {
   "cell_type": "code",
   "execution_count": null,
   "id": "f2d4d62f-92a4-4f6e-814e-6b4fe26743fc",
   "metadata": {},
   "outputs": [],
   "source": []
  }
 ],
 "metadata": {
  "kernelspec": {
   "display_name": "Python 3 (ipykernel)",
   "language": "python",
   "name": "python3"
  },
  "language_info": {
   "codemirror_mode": {
    "name": "ipython",
    "version": 3
   },
   "file_extension": ".py",
   "mimetype": "text/x-python",
   "name": "python",
   "nbconvert_exporter": "python",
   "pygments_lexer": "ipython3",
   "version": "3.12.7"
  }
 },
 "nbformat": 4,
 "nbformat_minor": 5
}
